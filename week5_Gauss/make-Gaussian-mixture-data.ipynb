{
 "cells": [
  {
   "cell_type": "markdown",
   "metadata": {},
   "source": [
    "# Generate some fake data from a mixture of randomly placed Gaussians.\n",
    "\n",
    "\n",
    "Marcus Frean, 2013."
   ]
  },
  {
   "cell_type": "code",
   "execution_count": 7,
   "metadata": {
    "collapsed": false
   },
   "outputs": [],
   "source": [
    "%matplotlib inline\n",
    "import sys, math\n",
    "import matplotlib.pyplot as plt\n",
    "import numpy as np\n",
    "import numpy.random as rng"
   ]
  },
  {
   "cell_type": "code",
   "execution_count": 142,
   "metadata": {
    "collapsed": true
   },
   "outputs": [],
   "source": [
    "def random_rotation(C, angle):\n",
    "    invC = np.linalg.inv(C)\n",
    "    R = np.array([[math.cos(angle),-math.sin(angle)],[math.sin(angle),math.cos(angle)]]) # rotation matrix\n",
    "    invC = np.dot(np.linalg.inv(R), np.dot(invC, R))\n",
    "    C = np.linalg.inv(invC)\n",
    "    return invC, C"
   ]
  },
  {
   "cell_type": "code",
   "execution_count": 143,
   "metadata": {
    "collapsed": false
   },
   "outputs": [],
   "source": [
    "D = 2    # number of dimensions\n",
    "K = 5   # number of components\n",
    "N = 1000 # number of data points\n",
    "\n",
    "out_stem = 'test-MoG'\n",
    "out_file = out_stem + '.csv'"
   ]
  },
  {
   "cell_type": "code",
   "execution_count": 144,
   "metadata": {
    "collapsed": false
   },
   "outputs": [],
   "source": [
    "prior = 0.2 + 0.8*rng.random((1,K))    # mixing coefficients\n",
    "prior = prior / np.sum(prior)             # normalisation"
   ]
  },
  {
   "cell_type": "code",
   "execution_count": 147,
   "metadata": {
    "collapsed": false
   },
   "outputs": [
    {
     "data": {
      "image/png": "[encoded data removed]",
      "text/plain": [
       "<matplotlib.figure.Figure at 0xb0a1c8cc>"
      ]
     },
     "metadata": {},
     "output_type": "display_data"
    }
   ],
   "source": [
    "covariances = []\n",
    "centers = []\n",
    "for k in range(K):\n",
    "    centers.append(5 * rng.normal(0.0,1.0,(D)))\n",
    "    C = np.array([[0.01+0.99*rng.random(), 0.0],[0.0, 0.01+0.1*rng.random()]])\n",
    "    angle = rng.random() * math.pi\n",
    "    C, invC = random_rotation(C, angle)\n",
    "\n",
    "    #c = 0.1 + 1.0*rng.random((D,D))\n",
    "    #c[1,0] = rng.normal(0.0,1.0)\n",
    "    #c[0,1] = c[1,0] #symmetric\n",
    "    covariances.append(C)\n",
    "\n",
    "# generate samples from this mixture of Gaussians\n",
    "data = np.zeros((N,D))\n",
    "for i in range(N):\n",
    "    # choose a component\n",
    "    j = np.sum(rng.random() > np.cumsum(prior))\n",
    "    # Now choose a data point using that component of the mixture\n",
    "    x,y = rng.multivariate_normal(centers[j],covariances[j],1).T\n",
    "    data[i,0] = x\n",
    "    data[i,1] = y\n",
    "\n",
    "# show the samples as a scatter plot\n",
    "plt.scatter(data[:,0], data[:,1], marker='o',s=.5,linewidths=None,alpha=0.5)\n",
    "plt.axis('equal')    \n",
    "plt.draw()"
   ]
  },
  {
   "cell_type": "markdown",
   "metadata": {},
   "source": [
    "Save it as a PNG file, just for kicks."
   ]
  },
  {
   "cell_type": "code",
   "execution_count": 17,
   "metadata": {
    "collapsed": false
   },
   "outputs": [
    {
     "name": "stdout",
     "output_type": "stream",
     "text": [
      "saved image  test-MoG.png\n"
     ]
    }
   ],
   "source": [
    "out_imagename = out_stem+'.png'\n",
    "pl.savefig(out_imagename)\n",
    "print 'saved image ',out_imagename"
   ]
  },
  {
   "cell_type": "markdown",
   "metadata": {},
   "source": [
    "Now write a datafile consisting of a matrix, in which each row is a\n",
    "training item. Ground truth is lost in this file: the true class is not\n",
    "written, just the vector..."
   ]
  },
  {
   "cell_type": "code",
   "execution_count": 18,
   "metadata": {
    "collapsed": false
   },
   "outputs": [
    {
     "name": "stdout",
     "output_type": "stream",
     "text": [
      "wrote data file  test-MoG.csv\n"
     ]
    }
   ],
   "source": [
    "# write the samples to a file\n",
    "np.savetxt(out_file, data, fmt=\"%12.6G\",)\n",
    "print 'wrote data file ',out_file"
   ]
  }
 ],
 "metadata": {
  "kernelspec": {
   "display_name": "Python 3",
   "language": "python",
   "name": "python3"
  },
  "language_info": {
   "codemirror_mode": {
    "name": "ipython",
    "version": 3
   },
   "file_extension": ".py",
   "mimetype": "text/x-python",
   "name": "python",
   "nbconvert_exporter": "python",
   "pygments_lexer": "ipython3",
   "version": "3.4.3"
  }
 },
 "nbformat": 4,
 "nbformat_minor": 0
}
