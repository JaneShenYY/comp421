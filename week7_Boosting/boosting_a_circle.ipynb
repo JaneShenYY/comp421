{
 "cells": [
  {
   "cell_type": "code",
   "execution_count": 2,
   "metadata": {
    "collapsed": true
   },
   "outputs": [],
   "source": [
    "%reset -f\n",
    "%matplotlib inline\n",
    "import matplotlib as mpl\n",
    "import numpy as np\n",
    "from numpy import array as a\n",
    "import matplotlib.pyplot as plt\n",
    "import numpy.random as rng\n",
    "import itertools as it\n",
    "from scipy.special import expit as sigmoid\n",
    "np.set_printoptions(precision = 2, suppress = True)\n",
    "import time\n",
    "rng.seed(int(time.time())) # seed the random number generator"
   ]
  },
  {
   "cell_type": "code",
   "execution_count": 24,
   "metadata": {
    "collapsed": false
   },
   "outputs": [
    {
     "data": {
      "image/png": "[encoded data removed]",
      "text/plain": [
       "<matplotlib.figure.Figure at 0x10ce2e1d0>"
      ]
     },
     "metadata": {},
     "output_type": "display_data"
    }
   ],
   "source": [
    "in_circle = lambda x, y: 1 if x**2 + y**2 <= 100 else -1\n",
    "\n",
    "def do_plot(phi, alph, sign_phi=False):\n",
    "    #for i, x in enumerate(dataset):\n",
    "    #    plt.plot(x[0], x[1], marker='s', c=((np.sign(phi[i])+1)/2, 0, 0))\n",
    "    \n",
    "    def view_images(i):\n",
    "        plt.figure(figsize=(10,10))\n",
    "        plt.set_cmap('gray')\n",
    "        plt.subplot(121)\n",
    "        # should fix up the axes\n",
    "        if sign_phi:\n",
    "            plt.imshow(np.sign(phi[i].reshape(40,40)), interpolation='nearest')\n",
    "        else:\n",
    "            plt.imshow((phi[i].reshape(40,40)), interpolation='nearest')\n",
    "        plt.subplot(122)\n",
    "        plt.imshow((alph[i].reshape(40,40)), interpolation='nearest')\n",
    "        plt.show()\n",
    "    interact(view_images, i=(0, len(all_phi)-1))\n",
    "\n",
    "dataset = a([ a([x,y,1]) for x, y in it.product(range(-20, 20), range(-20, 20)) ])\n",
    "ts = a( [in_circle(x, y) for x, y, _ in dataset] )\n",
    "\n",
    "αs = np.ones(dataset.shape[0])\n",
    "phi = np.zeros(dataset.shape[0])\n",
    "\n",
    "ITERATIONS = 5000\n",
    "all_phi = []\n",
    "all_alph = []\n",
    "for i in range(ITERATIONS):\n",
    "    perceptron_weights = rng.normal(size=3)\n",
    "    # let's give the bias a bit of a wider range\n",
    "    perceptron_weights[2] = rng.normal(scale=10)\n",
    "    y = np.sign(dataset.dot(perceptron_weights))\n",
    "    W = np.log( np.sum(αs[y == ts]) / np.sum(αs[y != ts]) )\n",
    "    αs = αs * np.exp(-W * ts * y)\n",
    "    phi += W * y\n",
    "    \n",
    "    if i%10 == 0: # don't save them all\n",
    "        all_alph.append(αs.copy())\n",
    "        all_phi.append((phi.copy()))\n",
    "    \n",
    "do_plot(all_phi, all_alph, sign_phi=True)"
   ]
  },
  {
   "cell_type": "code",
   "execution_count": null,
   "metadata": {
    "collapsed": true
   },
   "outputs": [],
   "source": []
  }
 ],
 "metadata": {
  "kernelspec": {
   "display_name": "Python 3",
   "language": "python",
   "name": "python3"
  },
  "language_info": {
   "codemirror_mode": {
    "name": "ipython",
    "version": 3
   },
   "file_extension": ".py",
   "mimetype": "text/x-python",
   "name": "python",
   "nbconvert_exporter": "python",
   "pygments_lexer": "ipython3",
   "version": "3.4.3"
  }
 },
 "nbformat": 4,
 "nbformat_minor": 0
}
