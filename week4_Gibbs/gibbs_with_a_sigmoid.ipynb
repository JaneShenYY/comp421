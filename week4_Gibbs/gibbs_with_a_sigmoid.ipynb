{
 "cells": [
  {
   "cell_type": "markdown",
   "metadata": {},
   "source": [
    "## Gibbs sampler\n",
    "We're going to try out Gibbs sampling on the hypercube. The simplest possible case surely?\n",
    "\n",
    "ie. there are $N$ variables, and they're all binary, so there are $2^N$ states, which are the vertices of a hypercube in $N$ dimensions.\n",
    "\n",
    "We'll specify some probability $P(\\mathbf{x})$ for each pattern (= binary string) $\\mathbf{x}$.\n",
    "\n",
    "Then we'll run heaps of Gibbs Sampler updates from some initial state, and count how often the sampler visits each state.\n",
    "\n",
    "If we're right, these counts should come to match our target distribution: bingo!"
   ]
  },
  {
   "cell_type": "code",
   "execution_count": 2,
   "metadata": {
    "collapsed": false
   },
   "outputs": [],
   "source": [
    "%reset -f\n",
    "%matplotlib inline\n",
    "import matplotlib as mpl\n",
    "import numpy as np\n",
    "from numpy import array as a\n",
    "import matplotlib.pyplot as plt\n",
    "import numpy.random as rng\n",
    "from scipy.special import expit as sigmoid\n",
    "np.set_printoptions(precision = 2, suppress = True)\n",
    "import time\n",
    "rng.seed(int(time.time())) # seed the random number generator"
   ]
  },
  {
   "cell_type": "code",
   "execution_count": 3,
   "metadata": {
    "collapsed": false
   },
   "outputs": [
    {
     "name": "stdout",
     "output_type": "stream",
     "text": [
      "[[0 0 0 0]\n",
      " [1 0 0 0]\n",
      " [0 1 0 0]\n",
      " [1 1 0 0]\n",
      " [0 0 1 0]\n",
      " [1 0 1 0]\n",
      " [0 1 1 0]\n",
      " [1 1 1 0]\n",
      " [0 0 0 1]\n",
      " [1 0 0 1]\n",
      " [0 1 0 1]\n",
      " [1 1 0 1]\n",
      " [0 0 1 1]\n",
      " [1 0 1 1]\n",
      " [0 1 1 1]\n",
      " [1 1 1 1]]\n"
     ]
    }
   ],
   "source": [
    "# make up an array with each row being one of the binary patterns. Do 'em all.\n",
    "N = 4\n",
    "inpats = np.array([[0 if (i & (1 << bit) == 0) else 1 for bit in range(N)] for i in range(2**N)]) \n",
    "print (inpats)\n",
    "\n",
    "powers = a([2**i for i in range(N)])\n",
    "input_ids = {tuple(i): np.sum(i * powers) for i in inpats}"
   ]
  },
  {
   "cell_type": "code",
   "execution_count": 4,
   "metadata": {
    "collapsed": false
   },
   "outputs": [],
   "source": [
    "# Make up some probability distribution over all the inpats\n",
    "targetProbs = rng.random(size=(len(inpats),1))\n",
    "targetProbs = targetProbs / targetProbs.sum()"
   ]
  },
  {
   "cell_type": "markdown",
   "metadata": {},
   "source": [
    "## Gibbs goes here"
   ]
  },
  {
   "cell_type": "code",
   "execution_count": 5,
   "metadata": {
    "collapsed": false
   },
   "outputs": [],
   "source": [
    "ITERATIONS = 1000 * 2 ** N\n",
    "\n",
    "id = lambda x: input_ids[tuple(x)]\n",
    "\n",
    "x = np.zeros(N)\n",
    "histogram = {i:0 for i in range(2**N)}\n",
    "for _ in range(ITERATIONS):\n",
    "    index = rng.randint(N)\n",
    "    x_prime = np.copy(x)\n",
    "    x_prime[index] = 1 - x[index]\n",
    "    \n",
    "    r = sigmoid(np.log(targetProbs[id(x_prime)]) - np.log(targetProbs[id(x)]))\n",
    "    if rng.rand() < r:\n",
    "        x = x_prime\n",
    "    histogram[id(x)] += 1\n",
    "\n",
    "empirical = {k:v/ITERATIONS for k,v in histogram.items()}\n",
    "theoretical = {i : targetProbs[i][0] for i in range(2**N)}"
   ]
  },
  {
   "cell_type": "markdown",
   "metadata": {},
   "source": [
    "## Compare samples made by Gibbs with the target distribution"
   ]
  },
  {
   "cell_type": "code",
   "execution_count": 8,
   "metadata": {
    "collapsed": false
   },
   "outputs": [
    {
     "data": {
      "image/png": "[encoded data removed]",
      "text/plain": [
       "<matplotlib.figure.Figure at 0x7f2c8a308f98>"
      ]
     },
     "metadata": {},
     "output_type": "display_data"
    }
   ],
   "source": [
    "ids = a(range(2**N))\n",
    "emp = [empirical[i] for i in ids]\n",
    "theo = [theoretical[i] for i in ids]\n",
    "\n",
    "width = 0.35\n",
    "plt.figure(figsize=(10,8))\n",
    "plt.bar(ids, emp, width, color='b', label='empirical')\n",
    "plt.bar(ids+width, theo, width, color='g', label='theoretical')\n",
    "plt.legend()\n",
    "\n",
    "pass"
   ]
  }
 ],
 "metadata": {
  "kernelspec": {
   "display_name": "Python 3",
   "language": "python",
   "name": "python3"
  },
  "language_info": {
   "codemirror_mode": {
    "name": "ipython",
    "version": 3
   },
   "file_extension": ".py",
   "mimetype": "text/x-python",
   "name": "python",
   "nbconvert_exporter": "python",
   "pygments_lexer": "ipython3",
   "version": "3.4.0"
  }
 },
 "nbformat": 4,
 "nbformat_minor": 0
}
