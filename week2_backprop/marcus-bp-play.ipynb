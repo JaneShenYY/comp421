{
 "cells": [
  {
   "cell_type": "markdown",
   "metadata": {},
   "source": [
    "# horsing around with the backprop algorithm\n",
    "Marcus started this see how quickly he could get backprop to stand up.\n",
    "\n",
    "Note the use of \"checkgrad\", which exhaustively confirms that the gradient calculation is in fact correct - not something to run all the time but a useful check to have.\n",
    "\n",
    "Issues:\n",
    "  * the neural net has no biases yet\n",
    "  * the learning problem is just random - better if we could read in a training set"
   ]
  },
  {
   "cell_type": "code",
   "execution_count": 2,
   "metadata": {
    "collapsed": false
   },
   "outputs": [],
   "source": [
    "%matplotlib inline\n",
    "import matplotlib\n",
    "import numpy as np\n",
    "import matplotlib.pyplot as plt\n",
    "import numpy.random as rng\n",
    "np.set_printoptions(precision = 2, suppress = True)"
   ]
  },
  {
   "cell_type": "markdown",
   "metadata": {},
   "source": [
    "### specify a neuron transfer function ('funk'), and its derivative"
   ]
  },
  {
   "cell_type": "code",
   "execution_count": 3,
   "metadata": {
    "collapsed": false
   },
   "outputs": [],
   "source": [
    "# THESE FUNKERS MUST MATCH ONE ANOTHER................\n",
    "\n",
    "def funk( phi ):  \n",
    "    # phi is always going to be a weighted sum (probably a matrix of).\n",
    "    x = 1.0/ (1.0 + np.exp(-phi))\n",
    "    \n",
    "    #ALT: rectified linear goes like this\n",
    "    #x = phi * (phi>0.0)\n",
    "    return x\n",
    "\n",
    "def dfunk_from_funk( x ):  # MUST MATCH WHAT YOU PUT HERE with the funk function.\n",
    "    # This is the gradient of the transfer function (funk)\n",
    "    # with respect to \"phi\", the weighted sum of inputs to the neuron.\n",
    "    # But the input argument isn't phi here - it's the function value itself.\n",
    "\n",
    "    dx = x*(1-x)\n",
    "    #ALT: rectified linear goes like this\n",
    "    #dx = 1.0*(x>0.0)\n",
    "    return dx"
   ]
  },
  {
   "cell_type": "markdown",
   "metadata": {},
   "source": [
    "### get or make some training data\n",
    "Got to have something to work on."
   ]
  },
  {
   "cell_type": "code",
   "execution_count": 9,
   "metadata": {
    "collapsed": false
   },
   "outputs": [
    {
     "name": "stdout",
     "output_type": "stream",
     "text": [
      "[[ 0.64  0.22 -1.35 -2.32 -0.31  0.99 -0.23 -1.15]\n",
      " [ 0.52 -0.03 -1.01 -1.16  0.12  0.21  0.38 -0.09]\n",
      " [-0.22  1.6   1.15 -0.77  0.44  0.73 -0.41 -0.97]]\n",
      "[[ 1.  0.]\n",
      " [ 1.  0.]\n",
      " [ 0.  1.]]\n"
     ]
    }
   ],
   "source": [
    "# I'm going to be dumb here and make them from my very own random perceptrons!\n",
    "# However you do it, call the input patterns \"inpats\" (each row is a pattern), and the output patterns \"targets\".\n",
    "Nins, Nouts, Npats = 8, 2, 100\n",
    "inpats = rng.normal(0,1,size=(Npats,Nins))\n",
    "tmpNhids = 10\n",
    "tmp_weights = rng.normal(0,1,size=(Nins,tmpNhids))\n",
    "hidphi = np.dot(inpats, tmp_weights)\n",
    "tmp_weights = rng.normal(0,1,size=(tmpNhids,Nouts))\n",
    "phi = np.dot(funk(hidphi), tmp_weights)\n",
    "targets = 1.0* (funk(phi) > 0.5)\n",
    "print (inpats[:3, :])\n",
    "print (targets[:3, :])"
   ]
  },
  {
   "cell_type": "markdown",
   "metadata": {},
   "source": [
    "### The function we're climbing"
   ]
  },
  {
   "cell_type": "code",
   "execution_count": 10,
   "metadata": {
    "collapsed": false
   },
   "outputs": [],
   "source": [
    "def calc_goodness(outputs, targets):\n",
    "    # outputs is a matrix (Npats, Nouts), and targets is what we'd like those to be.\n",
    "    error = targets - outputs\n",
    "    Good_vec = -0.5*np.power(error,2.0) # inverted parabola centered on the target outputs\n",
    "    dGood_vec = error # e.g. if output is too low, this should be positive.\n",
    "    return Good_vec.sum(), Good_vec, dGood_vec"
   ]
  },
  {
   "cell_type": "markdown",
   "metadata": {},
   "source": [
    "### set the network's architecture"
   ]
  },
  {
   "cell_type": "code",
   "execution_count": 11,
   "metadata": {
    "collapsed": false
   },
   "outputs": [
    {
     "name": "stdout",
     "output_type": "stream",
     "text": [
      "There are this many neurons in each layer:  [8, 5, 3, 2]\n"
     ]
    }
   ],
   "source": [
    "Npats = inpats.shape[0]\n",
    "architecture = [inpats.shape[1], 5, 3, targets.shape[1]]\n",
    "#architecture = [inpats.shape[1], targets.shape[1]]\n",
    "print ('There are this many neurons in each layer: ', architecture)  # a list of the number of neurons in each layer"
   ]
  },
  {
   "cell_type": "code",
   "execution_count": 12,
   "metadata": {
    "collapsed": false
   },
   "outputs": [
    {
     "name": "stdout",
     "output_type": "stream",
     "text": [
      "layer 0 activations have shape  (100, 8)\n",
      "layer 1 activations have shape  (100, 5)\n",
      "layer 2 activations have shape  (100, 3)\n",
      "layer 3 activations have shape  (100, 2)\n"
     ]
    }
   ],
   "source": [
    "X = [inpats] \n",
    "# X is going to be a list giving the activations of successive layers. \n",
    "# Each one is a matrix, whose columns are the neurons in that layer.\n",
    "# Each row in the matrix corresponds to a training item.\n",
    "# So all the matrices in the list X will have the same number of rows.\n",
    "\n",
    "for L in range(1, len(architecture)):\n",
    "    X.append(np.zeros(shape=(Npats, architecture[L]), dtype=float))\n",
    "\n",
    "for L in range(len(architecture)): \n",
    "    print('layer %d activations have shape ' %(L), X[L].shape)"
   ]
  },
  {
   "cell_type": "markdown",
   "metadata": {},
   "source": [
    "### set up the weights"
   ]
  },
  {
   "cell_type": "code",
   "execution_count": 13,
   "metadata": {
    "collapsed": false
   },
   "outputs": [
    {
     "name": "stdout",
     "output_type": "stream",
     "text": [
      "layer 0 weights have shape  ()\n",
      "layer 1 weights have shape  (5, 8)\n",
      "layer 2 weights have shape  (3, 5)\n",
      "layer 3 weights have shape  (2, 3)\n"
     ]
    }
   ],
   "source": [
    "# Then we have the weights. I'm going to index weight layer by the layer they're *going* towards.\n",
    "# So I'll have a zeroth weight layer for sanity, but it's going to be empty!\n",
    "# NOTE: no implementation of bias weights here, yet!\n",
    "W  = [np.array(None)]\n",
    "dW = [np.array(None)]\n",
    "for L in range(1,len(X)):\n",
    "    init_weights_scale = 0.1  #1/np.sqrt((X[L].shape()).max())\n",
    "\n",
    "    Nins = X[L-1].shape[1]\n",
    "    Nouts = X[L].shape[1]\n",
    "    W.append(init_weights_scale * rng.normal(0,1,size=(Nouts, Nins)) )\n",
    "    dW.append(0.0 * np.copy(W[L]))\n",
    "\n",
    "for L in range(len(W)):\n",
    "    print('layer %d weights have shape ' %(L), W[L].shape)"
   ]
  },
  {
   "cell_type": "markdown",
   "metadata": {},
   "source": [
    "### forward pass"
   ]
  },
  {
   "cell_type": "code",
   "execution_count": 14,
   "metadata": {
    "collapsed": false
   },
   "outputs": [],
   "source": [
    "def forward_pass(X, W):\n",
    "    for L in range(1,len(X)):\n",
    "        x = X[L-1].transpose()\n",
    "        # print (L, W[L].shape, x.shape)\n",
    "        X[L] = funk(np.dot(W[L], x).transpose())\n",
    "    return X"
   ]
  },
  {
   "cell_type": "markdown",
   "metadata": {},
   "source": [
    "### backward pass"
   ]
  },
  {
   "cell_type": "code",
   "execution_count": 15,
   "metadata": {
    "collapsed": false
   },
   "outputs": [],
   "source": [
    "def backward_pass(X, W, dW, targets):\n",
    "    good_sum, good_vec, dgood = calc_goodness(X[-1], targets)\n",
    "    epsilon = dgood\n",
    "    npats = X[0].shape[0]\n",
    "    for L in range(len(X)-1,0,-1):\n",
    "        psi = epsilon * dfunk_from_funk(X[L]) # elt-wise multiply\n",
    "        n1, n2 = X[L-1].shape[1], psi.shape[1]\n",
    "        A = np.tile(X[L-1],n2).reshape(npats,n2,n1)\n",
    "        B = np.repeat(psi,n1).reshape(npats,n2,n1)        \n",
    "        dW[L] = (A*B).sum(0) # outer product multiply\n",
    "        epsilon = np.dot(psi, W[L]) # inner product multiply\n",
    "    return dW"
   ]
  },
  {
   "cell_type": "code",
   "execution_count": 16,
   "metadata": {
    "collapsed": false
   },
   "outputs": [],
   "source": [
    "X = forward_pass(X, W)\n",
    "dW = backward_pass(X, W, dW, targets)"
   ]
  },
  {
   "cell_type": "code",
   "execution_count": 17,
   "metadata": {
    "collapsed": false
   },
   "outputs": [],
   "source": [
    "def checkgrad(dW, X, W, targets):\n",
    "    # Check the gradient directly, via perturbations to every weight.\n",
    "    # This is completely daft in practical terms, but very useful for debugging.\n",
    "    # ie. it tells you whether your backprop of errors really is returning the true gradient.\n",
    "    tiny = 0.0001\n",
    "    \n",
    "    dW_test = [np.array(None)]\n",
    "    for L in range(1,len(W)):\n",
    "        dW_test.append(0.0*np.copy(W[L]))\n",
    "    \n",
    "    X = forward_pass(X,W)\n",
    "    base_good, tmp1, tmp2 = calc_goodness(X[-1], targets)\n",
    "    \n",
    "    for L in range(1,len(X)):\n",
    "        for j in range(W[L].shape[0]): # index of destination node\n",
    "            for i in range(W[L].shape[1]): # index of origin node\n",
    "                # perturb that weight\n",
    "                (W[L])[j,i] = (W[L])[j,i] + tiny\n",
    "                # compute and store the empirical gradient estimate\n",
    "                X = forward_pass(X,W)\n",
    "                tmp_good, tmp1, tmp2 = calc_goodness(X[-1], targets)\n",
    "                (dW_test[L])[j,i] = (tmp_good - base_good)/tiny                \n",
    "                # unperturb the weight\n",
    "                (W[L])[j,i] = (W[L])[j,i] - tiny\n",
    "                \n",
    "    # show the result?\n",
    "    for L in range(1,len(X)):\n",
    "        print ('-------------- layer %d --------------' %(L))\n",
    "        print ('calculated gradients:')\n",
    "        print (dW[L])\n",
    "        print ('empirical gradients:')\n",
    "        print (dW_test[L])"
   ]
  },
  {
   "cell_type": "code",
   "execution_count": 18,
   "metadata": {
    "collapsed": false
   },
   "outputs": [
    {
     "name": "stdout",
     "output_type": "stream",
     "text": [
      "-------------- layer 1 --------------\n",
      "calculated gradients:\n",
      "[[ 0.    0.   -0.   -0.   -0.   -0.   -0.   -0.  ]\n",
      " [-0.    0.   -0.   -0.    0.   -0.    0.    0.  ]\n",
      " [-0.   -0.    0.    0.    0.    0.    0.    0.  ]\n",
      " [-0.    0.   -0.   -0.   -0.   -0.   -0.   -0.  ]\n",
      " [-0.    0.   -0.   -0.    0.   -0.01  0.    0.  ]]\n",
      "empirical gradients:\n",
      "[[ 0.    0.   -0.   -0.   -0.   -0.   -0.   -0.  ]\n",
      " [-0.    0.   -0.   -0.    0.   -0.    0.    0.  ]\n",
      " [-0.   -0.    0.    0.    0.    0.    0.    0.  ]\n",
      " [-0.    0.   -0.   -0.   -0.   -0.   -0.   -0.  ]\n",
      " [-0.    0.   -0.   -0.    0.   -0.01  0.    0.  ]]\n",
      "-------------- layer 2 --------------\n",
      "calculated gradients:\n",
      "[[-0.03 -0.04 -0.03 -0.04 -0.04]\n",
      " [ 0.05  0.05  0.06  0.05  0.05]\n",
      " [ 0.08  0.08  0.08  0.08  0.08]]\n",
      "empirical gradients:\n",
      "[[-0.03 -0.04 -0.03 -0.04 -0.04]\n",
      " [ 0.05  0.05  0.06  0.05  0.05]\n",
      " [ 0.08  0.08  0.08  0.08  0.08]]\n",
      "-------------- layer 3 --------------\n",
      "calculated gradients:\n",
      "[[ 2.44  2.72  2.69]\n",
      " [ 3.41  3.82  3.76]]\n",
      "empirical gradients:\n",
      "[[ 2.44  2.72  2.69]\n",
      " [ 3.41  3.82  3.76]]\n"
     ]
    }
   ],
   "source": [
    "checkgrad(dW, X, W, targets)"
   ]
  },
  {
   "cell_type": "markdown",
   "metadata": {},
   "source": [
    "## yay.\n",
    "The gradient seems to be right for the full MLP, so that's... progress!\n",
    "\n",
    "Let's try learning the problem then...."
   ]
  },
  {
   "cell_type": "code",
   "execution_count": 19,
   "metadata": {
    "collapsed": false
   },
   "outputs": [],
   "source": [
    "def learn(X, W, dW, targets, learning_rate=0.01, momentum=0.1, num_steps=1):\n",
    "    # note dW and prev_change are of the same size as W - we'll make space for them first\n",
    "    times, vals = [], []\n",
    "    next_time = 0\n",
    "    \n",
    "    prev_change = [np.array(None)]\n",
    "    for L in range(1,len(X)):\n",
    "        prev_change.append(0.0 * np.copy(W[L]))\n",
    "    \n",
    "    # now for the learning iterations\n",
    "    for step in range(num_steps):\n",
    "        X = forward_pass(X,W)\n",
    "        \n",
    "        # this is just record-keeping.......\n",
    "        if step == next_time:\n",
    "            good_sum, good_vec, dgood = calc_goodness(X[-1], targets)\n",
    "            vals.append(good_sum)\n",
    "            times.append(step)\n",
    "            next_time = step + 10\n",
    "\n",
    "        dW = backward_pass(X, W, dW, targets)\n",
    "        for L in range(1,len(X)):\n",
    "            change =  (learning_rate * dW[L])  +  (momentum * prev_change[L])\n",
    "            W[L] = W[L] + change\n",
    "            prev_change[L] = change\n",
    "\n",
    "\n",
    "    return W, times, vals"
   ]
  },
  {
   "cell_type": "code",
   "execution_count": 20,
   "metadata": {
    "collapsed": false
   },
   "outputs": [
    {
     "data": {
      "text/plain": [
       "[<matplotlib.lines.Line2D at 0x3069bf8>]"
      ]
     },
     "execution_count": 20,
     "metadata": {},
     "output_type": "execute_result"
    },
    {
     "data": {
      "image/png": "[encoded data removed]",
      "text/plain": [
       "<matplotlib.figure.Figure at 0x2fb0778>"
      ]
     },
     "metadata": {},
     "output_type": "display_data"
    }
   ],
   "source": [
    "W, vals, times = learn(X, W, dW, targets, learning_rate=0.01, momentum=0.5, num_steps=10000)\n",
    "plt.plot(vals, times)"
   ]
  },
  {
   "cell_type": "code",
   "execution_count": null,
   "metadata": {
    "collapsed": true
   },
   "outputs": [],
   "source": []
  }
 ],
 "metadata": {
  "kernelspec": {
   "display_name": "Python 3",
   "language": "python",
   "name": "python3"
  },
  "language_info": {
   "codemirror_mode": {
    "name": "ipython",
    "version": 3
   },
   "file_extension": ".py",
   "mimetype": "text/x-python",
   "name": "python",
   "nbconvert_exporter": "python",
   "pygments_lexer": "ipython3",
   "version": "3.4.3"
  }
 },
 "nbformat": 4,
 "nbformat_minor": 0
}
