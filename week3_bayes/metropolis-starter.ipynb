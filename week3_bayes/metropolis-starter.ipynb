{
 "cells": [
  {
   "cell_type": "code",
   "execution_count": 22,
   "metadata": {
    "collapsed": true
   },
   "outputs": [],
   "source": [
    "%matplotlib inline\n",
    "import matplotlib as mpl\n",
    "import numpy as np\n",
    "import matplotlib.pyplot as plt\n",
    "import numpy.random as rng\n",
    "import math, time\n",
    "rng.seed(int(time.time())) # seed the random number generator\n",
    "np.set_printoptions(precision = 2, suppress = True)"
   ]
  },
  {
   "cell_type": "code",
   "execution_count": 23,
   "metadata": {
    "collapsed": true
   },
   "outputs": [],
   "source": [
    "# you can give this a 2-d vector x, and it'll return another one nearby...\n",
    "def draw_from_proposal(x, jumpsize=1.0):\n",
    "    covariance = jumpsize * np.eye(len(x))\n",
    "    d = rng.multivariate_normal(np.zeros(x.shape), cov=covariance)\n",
    "    return x + d"
   ]
  },
  {
   "cell_type": "code",
   "execution_count": 24,
   "metadata": {
    "collapsed": false
   },
   "outputs": [],
   "source": [
    "def calc_Pstar(x):\n",
    "    val = np.exp(-np.sum(x*x/40.)) \n",
    "    val = val * np.power(x,2).sum()\n",
    "    val = val * np.exp(10.0 * math.sin(x[0] * x[1] /10.))  # + math.cos(x[1]) + 0.5)\n",
    "    return val"
   ]
  },
  {
   "cell_type": "code",
   "execution_count": 26,
   "metadata": {
    "collapsed": false
   },
   "outputs": [
    {
     "name": "stdout",
     "output_type": "stream",
     "text": [
      "Accepted:  146\n",
      "Rejected:  254\n"
     ]
    },
    {
     "data": {
      "image/png": "[encoded data removed]",
      "text/plain": [
       "<matplotlib.figure.Figure at 0x3519338>"
      ]
     },
     "metadata": {},
     "output_type": "display_data"
    }
   ],
   "source": [
    "num_samples = 4\n",
    "proposal_typical_jump = 1.0\n",
    "nAccepted, nRejected = 0, 0\n",
    "\n",
    "x = np.array([0.0, 0.0])  # starting point (who cares...)\n",
    "samples = np.zeros((num_samples, 2),float)  \n",
    "for j in range(num_samples):\n",
    "    for i in range(100):  #I leave 100 samples in between each one that I keep.\n",
    "        x_proposal = draw_from_proposal(x, proposal_typical_jump)\n",
    "        if calc_Pstar(x_proposal) > calc_Pstar(x):\n",
    "            x = x_proposal\n",
    "            nAccepted = nAccepted + 1\n",
    "        else:\n",
    "            threshold = calc_Pstar(x_proposal) / calc_Pstar(x)\n",
    "            if rng.random() < threshold:\n",
    "                x = x_proposal\n",
    "                nAccepted = nAccepted + 1\n",
    "            else:\n",
    "                nRejected = nRejected + 1\n",
    "    samples[j,:] = x\n",
    "    #if x[1]>1: count += 1\n",
    "\n",
    "plt.plot(samples[:,0],samples[:,1],'.k')\n",
    "plt.axis('equal')\n",
    "print ('Accepted: ', nAccepted)\n",
    "print ('Rejected: ', nRejected)"
   ]
  },
  {
   "cell_type": "code",
   "execution_count": null,
   "metadata": {
    "collapsed": true
   },
   "outputs": [],
   "source": []
  }
 ],
 "metadata": {
  "kernelspec": {
   "display_name": "Python 3",
   "language": "python",
   "name": "python3"
  },
  "language_info": {
   "codemirror_mode": {
    "name": "ipython",
    "version": 3
   },
   "file_extension": ".py",
   "mimetype": "text/x-python",
   "name": "python",
   "nbconvert_exporter": "python",
   "pygments_lexer": "ipython3",
   "version": "3.4.3"
  }
 },
 "nbformat": 4,
 "nbformat_minor": 0
}
